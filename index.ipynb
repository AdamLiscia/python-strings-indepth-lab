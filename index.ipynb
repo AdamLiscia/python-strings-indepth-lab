{
 "cells": [
  {
   "cell_type": "markdown",
   "metadata": {},
   "source": [
    "# Python Strings - Reloaded"
   ]
  },
  {
   "cell_type": "markdown",
   "metadata": {},
   "source": [
    "Strings (otherwise known as text) is a very important datatype in programming. Because strings are such a big part of programming and Python, there are a lot of ways to use them and many built-in methods that Python provides for us to use with them."
   ]
  },
  {
   "cell_type": "markdown",
   "metadata": {},
   "source": [
    "## Formatting Strings"
   ]
  },
  {
   "cell_type": "markdown",
   "metadata": {},
   "source": [
    "First thing we should talk about is the ways we can format strings. After all, we are programmers and we will usually need to make our strings programmatic. There are two main forms of combining and formatting strings called concatenation and interpolation. \n",
    "\n",
    "**Concatenation** is the operation of joining strings end-to-end. When we concatenate two strings, we are basically adding them together. So, if I have one string, `\"Hello, my name is\"`, and a second string, `\"Terrance!\"`, I can concatenate them together and make one longer string.\n",
    "\n",
    "**Interpolation** is the insertion of string variables into parts of an existing string. When we interpolate, we mark where we would like to insert values into a string (like placeholders), and then pass the values to the string, resulting in a string where the placeholders are replaced with their corresponding string values. In Python it would look something like this: `\"Hi, my name is {}\".format(\"Terrance!\")` which would yield \"Hello, my name is Terrance!\""
   ]
  },
  {
   "cell_type": "code",
   "execution_count": 35,
   "metadata": {},
   "outputs": [
    {
     "name": "stdout",
     "output_type": "stream",
     "text": [
      "Hello, my name is Terrance!\n",
      "Hello, my name is Terrance!\n",
      "Hello, my name is Terrance!\n",
      "Hello, my name is Terrance!\n"
     ]
    }
   ],
   "source": [
    "name = \"Terrance!\"\n",
    "print(\"Hello, my name is %s\" % (name)) # interpolation\n",
    "print(\"Hello, my name is \" + name) # concatenation\n",
    "print(\"Hello, my name is {name}\".format(name=name)) # interpolation\n",
    "print(f\"Hello, my name is {name}\") # interpolation with f-strings - newest method as of Python 3.6"
   ]
  },
  {
   "cell_type": "markdown",
   "metadata": {},
   "source": [
    "As we can see there are 4 different was to format strings in python! That can be pretty confusing. So, in general we should choose one method and stick to it. \n",
    "\n",
    "If we're simply combining a few strings end to end, concatenating them is the way to go (the one with the `+` signs).\n",
    "\n",
    "However, if we are interpolating we have three options. As with everything in Python and programming, it is important to have a reason behind every decision. A reason to not use the `%s` method would be that it can quickly become confusing if we have more than one element to interpolate since our markers for interpolation are just a non-descript symbol (`%s`). So, if we eliminate the first method of interpolation, we are left with the last two. There are benefits to both. \n",
    "\n",
    "`f-strings` or `string literals` allow you to directly interpolate strings and functions. You can more easily separate the things you want to interpolate so that it is not all bunched together, and maybe more significantly f-strings are much faster than other forms of string interpolation. However, the f-string is new to python as of version 3.6. So, they may not be supported on all applications. \n",
    "\n",
    "the `.format` method is also a good way of interpolating with strings. We simply choose where you would like to have a value interpolated and mark it with the double curly braces `{}`. Optionally, we can define a variable name inside the curly braces, `{name}`. Then, we give the `.format` method the arguments necessary. If we do not define a variable name (i.e. \"hello my name is {}\".format(\"Terrance\")), then we just give the value we want to be interpolated. If we do decide to define a variable, (i.e. \"hello my name is {name}\".format(name=\"Terrance\")), then we will need to tell our `.format` method what value to assign to each variable."
   ]
  },
  {
   "cell_type": "code",
   "execution_count": null,
   "metadata": {},
   "outputs": [],
   "source": [
    "# f-string interpolation\n",
    "name = \"Terrance\"\n",
    "language = \"Python\"\n",
    "home_state = \"New York\"\n",
    "def borough_name():\n",
    "    return \"Brooklyn\"\n",
    "\n",
    "f\"Hi, my name is {name}! I love coding, especially in {language}. I live in {borough_name()}, {home_state}\"\n",
    "# here we can see that we don't need to worry about passing arguments or defining variables inside our string\n",
    "# we can also call functions and perform any normal python operations inside the curly braces"
   ]
  },
  {
   "cell_type": "code",
   "execution_count": null,
   "metadata": {},
   "outputs": [],
   "source": [
    "# .format() interpolation\n",
    "name = \"Terrance\"\n",
    "language = \"Python\"\n",
    "home_state = \"New York\"\n",
    "\"Hi, my name is {name}! I love coding, especially in {lang}. I live in {location}, {location}\".format(lang=language, location=home_state, name=name)\n",
    "# here we can see that we need to name our arguments in the .format function what we call our variables\n",
    "# in the string itself. Order does not matter here, and we can use the same variable multiple times."
   ]
  },
  {
   "cell_type": "code",
   "execution_count": null,
   "metadata": {},
   "outputs": [],
   "source": [
    "# .format() interpolation\n",
    "name = \"Terrance\"\n",
    "language = \"Python\"\n",
    "home_state = \"New York\"\n",
    "\"Hi, my name is {} I love coding, especially in {}. I live in {}, {}\".format(name, language, \"New York City\", home_state)\n",
    "# here we can see that the order of arguments matters and that we need the exact number of arguments as we have {}"
   ]
  },
  {
   "cell_type": "markdown",
   "metadata": {},
   "source": [
    "Now that we know how to interpolate and concatenate strings, let's talk about the different kinds of string methods we have available to us. \n",
    "\n",
    "\n",
    "\n",
    "\n",
    "\n"
   ]
  },
  {
   "cell_type": "code",
   "execution_count": 12,
   "metadata": {},
   "outputs": [
    {
     "data": {
      "text/plain": [
       "'Hi, my name is Terrance! I love coding, especially in JavaScript -- OH YEAH. I live in Brooklyn, New York'"
      ]
     },
     "execution_count": 12,
     "metadata": {},
     "output_type": "execute_result"
    }
   ],
   "source": [
    "import re\n",
    "\n",
    "name = \"Terrance\"\n",
    "language = \"Python\"\n",
    "home_state = \"New York\"\n",
    "def borough_name():\n",
    "    return \"Brooklyn\"\n",
    "\n",
    "string = f\"Hi, my name is {name}! I love coding, especially in {language}. I live in {borough_name()}, {home_state}\"\n",
    "\n",
    "re.sub(\"Python\", \"JavaScript -- OH YEAH\", string)"
   ]
  },
  {
   "cell_type": "markdown",
   "metadata": {},
   "source": [
    "## Summary"
   ]
  },
  {
   "cell_type": "code",
   "execution_count": null,
   "metadata": {},
   "outputs": [],
   "source": []
  }
 ],
 "metadata": {
  "kernelspec": {
   "display_name": "Python 3",
   "language": "python",
   "name": "python3"
  },
  "language_info": {
   "codemirror_mode": {
    "name": "ipython",
    "version": 3
   },
   "file_extension": ".py",
   "mimetype": "text/x-python",
   "name": "python",
   "nbconvert_exporter": "python",
   "pygments_lexer": "ipython3",
   "version": "3.6.4"
  }
 },
 "nbformat": 4,
 "nbformat_minor": 2
}
